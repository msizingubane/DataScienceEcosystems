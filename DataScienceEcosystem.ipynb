{
 "cells": [
  {
   "cell_type": "markdown",
   "id": "15b6fd5c",
   "metadata": {},
   "source": [
    "# Data Science Tools and Ecosystem"
   ]
  },
  {
   "cell_type": "markdown",
   "id": "168a630d",
   "metadata": {},
   "source": [
    "In this notebook, Data Science Tools and Ecosystem are summarized."
   ]
  },
  {
   "cell_type": "markdown",
   "id": "b8879cd9",
   "metadata": {},
   "source": [
    "Some of the popular languages that Data Scientists use are:\n",
    "1. R\n",
    "2. Python\n",
    "3. Scala\n",
    "4. SQL"
   ]
  },
  {
   "cell_type": "markdown",
   "id": "dd93e1d0",
   "metadata": {},
   "source": [
    "Some of the commonly used libraries used by Data Scientists include:\n",
    "1. Pandas\n",
    "2. NumPy\n",
    "3. Matplotlib\n",
    "4. Scikit-learn"
   ]
  },
  {
   "cell_type": "markdown",
   "id": "3fb5cd10",
   "metadata": {},
   "source": [
    "|Data Science tools |\n",
    "--------------------\n",
    "|Jupyter Notebook  |\n",
    "|Spyder            |\n",
    "|RStudio           |\n"
   ]
  },
  {
   "cell_type": "markdown",
   "id": "63d9c645",
   "metadata": {},
   "source": [
    "### Below are a few examples of evaluating arithmetic expressions in Python"
   ]
  },
  {
   "cell_type": "markdown",
   "id": "b77cea4f",
   "metadata": {},
   "source": [
    "This a simple arithmetic expression to mutiply then add integers"
   ]
  },
  {
   "cell_type": "code",
   "execution_count": 8,
   "id": "0f62f647",
   "metadata": {},
   "outputs": [
    {
     "data": {
      "text/plain": [
       "17"
      ]
     },
     "execution_count": 8,
     "metadata": {},
     "output_type": "execute_result"
    }
   ],
   "source": [
    "(3*4)+5"
   ]
  },
  {
   "cell_type": "markdown",
   "id": "ea944b76",
   "metadata": {},
   "source": [
    "This will convert 200 minutes to hours by diving by 60"
   ]
  },
  {
   "cell_type": "code",
   "execution_count": 21,
   "id": "a6f6f057",
   "metadata": {},
   "outputs": [
    {
     "name": "stdout",
     "output_type": "stream",
     "text": [
      "enter the minutes to be converted 200\n",
      "3 hours and 20 minutes\n"
     ]
    }
   ],
   "source": [
    "import math\n",
    "y = int(input(\"enter the minutes to be converted \"))\n",
    "a = math.floor(y/60)\n",
    "b = y%60\n",
    "print(str(a) +\" hours and \"+ str(b) +\" minutes\")"
   ]
  },
  {
   "cell_type": "markdown",
   "id": "dc3ee611",
   "metadata": {},
   "source": [
    "**Objectives**:\n",
    "- Java\n",
    "- Julia\n",
    "- SQL\n",
    "- R"
   ]
  },
  {
   "cell_type": "markdown",
   "id": "7b72eb4d",
   "metadata": {},
   "source": [
    "## Author\n",
    "Msizi Ngubane"
   ]
  },
  {
   "cell_type": "code",
   "execution_count": null,
   "id": "51b25078",
   "metadata": {},
   "outputs": [],
   "source": []
  }
 ],
 "metadata": {
  "kernelspec": {
   "display_name": "Python 3 (ipykernel)",
   "language": "python",
   "name": "python3"
  },
  "language_info": {
   "codemirror_mode": {
    "name": "ipython",
    "version": 3
   },
   "file_extension": ".py",
   "mimetype": "text/x-python",
   "name": "python",
   "nbconvert_exporter": "python",
   "pygments_lexer": "ipython3",
   "version": "3.10.9"
  }
 },
 "nbformat": 4,
 "nbformat_minor": 5
}
